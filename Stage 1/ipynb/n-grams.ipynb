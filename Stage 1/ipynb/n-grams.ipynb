{
 "cells": [
  {
   "cell_type": "code",
   "execution_count": null,
   "metadata": {},
   "outputs": [],
   "source": [
    "def label_extraction_takeoff(paragraphs, labels=None):\n",
    "    \"\"\"\n",
    "    :param paragraphs: string input data with <person></person> labels\n",
    "    :param labels: a set which contains all label among all input data\n",
    "    :return: new paragraohs without labels\n",
    "    \"\"\"\n",
    "\n",
    "    LABEL = \"<person>\"\n",
    "    LABEL_END = \"</person>\"\n",
    "    new_paragraph = \"\"\n",
    "    index = 0\n",
    "\n",
    "    while(index < len(paragraphs)):\n",
    "        # find the index of the closest LABEL\n",
    "        found = paragraphs.find(LABEL, index)\n",
    "\n",
    "        # if the label is found\n",
    "        if found != -1:\n",
    "            # find the index (location) of the end of label\n",
    "            found_end = paragraphs.find(LABEL_END, found)\n",
    "            # append label to the return variable new_paragraph\n",
    "            new_paragraph += paragraphs[index:found] + paragraphs[found+len(LABEL):found_end]\n",
    "\n",
    "            # if labels is not None, add the label into it\n",
    "            if labels is not None:\n",
    "                labels.add(paragraphs[found+len(LABEL):found_end])\n",
    "\n",
    "            # update the current index\n",
    "            index = found_end + len(LABEL_END)\n",
    "\n",
    "        else:\n",
    "            new_paragraph += paragraphs[index:]\n",
    "            break\n",
    "\n",
    "    return new_paragraph\n",
    "\n"
   ]
  },
  {
   "cell_type": "code",
   "execution_count": null,
   "metadata": {},
   "outputs": [],
   "source": [
    "from unidecode import unidecode"
   ]
  },
  {
   "cell_type": "code",
   "execution_count": null,
   "metadata": {},
   "outputs": [],
   "source": [
    "for i in range(1,10):\n",
    "    file=open('data/'+'00'+str(i)+'.txt')\n",
    "    parag = file.read()\n",
    "    parag = parag.decode(\"UTF-8\")\n",
    "    parag = unidecode(parag)\n",
    "    \n",
    "    f1 = open('raw/'+'raw_00'+ str(i) +'.txt','w')\n",
    "    f1.write(label_extraction_takeoff(parag))\n",
    "    f1.close()\n",
    "    \n",
    "for i in range(10,100):\n",
    "    file=open('data/'+'0'+str(i)+'.txt')\n",
    "    parag = file.read()\n",
    "    parag = parag.decode(\"UTF-8\")\n",
    "    parag = unidecode(parag)\n",
    "\n",
    "    f1 = open('raw/'+'raw_0'+ str(i) +'.txt','w')\n",
    "    f1.write(label_extraction_takeoff(parag))\n",
    "    f1.close()\n",
    "\n",
    "file=open('data/'+'100'+'.txt')\n",
    "parag = file.read()\n",
    "f1 = open('raw/'+'raw_100'+'.txt','w')\n",
    "f1.write(label_extraction_takeoff(parag))\n",
    "f1.close()   "
   ]
  },
  {
   "cell_type": "code",
   "execution_count": null,
   "metadata": {},
   "outputs": [],
   "source": [
    "import re\n",
    "import nltk\n",
    "from nltk.util import ngrams"
   ]
  },
  {
   "cell_type": "code",
   "execution_count": null,
   "metadata": {},
   "outputs": [],
   "source": [
    "def generate_ngrams(file_name = 'raw/raw_001.txt', file_text):\n",
    "    n = 6\n",
    "    element = file_text.split( )\n",
    "    element_with_tag = []\n",
    "    size = len(element)\n",
    "    for i in range(size):\n",
    "        element[i] = re.sub('[!@#$(){}\\,\\\\.\"]', '', element[i])\n",
    "        if (len(element[i]) >= 2 and element[i][-2] == \"'\"):\n",
    "            element[i] = element[i][:-2]\n",
    "\n",
    "        element_with_tag.append((element[i], file_name, i))\n",
    "        print(element[i])\n",
    "        print(element_with_tag[i])\n",
    "    print(\"done with single word\")\n",
    "    print(element)\n",
    "    print(\"__________________________\")\n",
    "\n",
    "    pair = []\n",
    "    for i in range(size):\n",
    "        temp = element[i]\n",
    "        for j in range(1, n):\n",
    "            if (i + j) < size:\n",
    "                temp = temp + ' ' + element[i + j];\n",
    "                temp_with_first_index = (temp, file_name, element_with_tag[i][2], element_with_tag[i + j][2])\n",
    "                pair.append(temp_with_first_index)\n",
    "    # for i in range(size):\n",
    "    #     temp = element_with_tag[i][0]\n",
    "    #     for j in range(1, n):\n",
    "    #         if (i + j) < size:\n",
    "    #             temp = temp + ' ' + element_with_tag[i + j][0];\n",
    "    #             temp_with_first_index = (temp, element_with_tag[i][1])\n",
    "    #             pair.append(temp)\n",
    "\n",
    "    element_with_tag += pair\n",
    "\n",
    "    print(element_with_tag) \n",
    "    print(\"__________________________\")"
   ]
  },
  {
   "cell_type": "code",
   "execution_count": null,
   "metadata": {},
   "outputs": [],
   "source": [
    "generate_ngrams()"
   ]
  },
  {
   "cell_type": "code",
   "execution_count": null,
   "metadata": {},
   "outputs": [],
   "source": []
  }
 ],
 "metadata": {
  "kernelspec": {
   "display_name": "Python 2",
   "language": "python",
   "name": "python2"
  },
  "language_info": {
   "codemirror_mode": {
    "name": "ipython",
    "version": 2
   },
   "file_extension": ".py",
   "mimetype": "text/x-python",
   "name": "python",
   "nbconvert_exporter": "python",
   "pygments_lexer": "ipython2",
   "version": "2.7.15"
  }
 },
 "nbformat": 4,
 "nbformat_minor": 2
}
