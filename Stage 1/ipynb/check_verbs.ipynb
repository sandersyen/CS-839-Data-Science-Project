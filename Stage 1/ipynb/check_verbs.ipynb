{
 "cells": [
  {
   "cell_type": "code",
   "execution_count": 108,
   "metadata": {},
   "outputs": [],
   "source": [
    "fileir=open('verbs/irregular_verbs.txt')\n",
    "# reference: https://languageonschools.com/english-irregular-verbs-list/\n",
    "irreg=fileir.read()\n",
    "filere=open('verbs/regular_verbs.txt')\n",
    "# reference: https://www.englishclub.com/vocabulary/regular-verbs-list.htm\n",
    "reg=filere.read()"
   ]
  },
  {
   "cell_type": "code",
   "execution_count": 109,
   "metadata": {},
   "outputs": [],
   "source": [
    "irreg_list=irreg.split(', ')\n",
    "reg_list=reg.split(', ')"
   ]
  },
  {
   "cell_type": "code",
   "execution_count": 110,
   "metadata": {},
   "outputs": [],
   "source": [
    "a,b = generate_ngrams('raw_001',open('raw/raw_001.txt').read(), 4)"
   ]
  },
  {
   "cell_type": "code",
   "execution_count": 111,
   "metadata": {},
   "outputs": [],
   "source": [
    "feature=[]\n",
    "for i in range(len(a)):\n",
    "    if (a[i][3]+1) < len(b):     \n",
    "        if (b[a[i][3]+1][0] in irreg_list)|(b[a[i][3]+1][0] in reg_list):\n",
    "            feature.append('1')\n",
    "        else:\n",
    "            feature.append('0')\n",
    "    else:\n",
    "        feature.append('0')"
   ]
  }
 ],
 "metadata": {
  "kernelspec": {
   "display_name": "Python 3",
   "language": "python",
   "name": "python3"
  },
  "language_info": {
   "codemirror_mode": {
    "name": "ipython",
    "version": 3
   },
   "file_extension": ".py",
   "mimetype": "text/x-python",
   "name": "python",
   "nbconvert_exporter": "python",
   "pygments_lexer": "ipython3",
   "version": "3.7.1"
  }
 },
 "nbformat": 4,
 "nbformat_minor": 2
}
